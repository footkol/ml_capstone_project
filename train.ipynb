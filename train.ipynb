{
 "cells": [
  {
   "cell_type": "code",
   "execution_count": 1,
   "id": "24e1b875-5f3d-4f21-8866-b7c8bebd36b3",
   "metadata": {},
   "outputs": [],
   "source": [
    "import pandas as pd\n",
    "import numpy as np\n",
    "import warnings\n",
    "warnings.filterwarnings(\"ignore\")\n",
    "\n",
    "%matplotlib inline\n",
    "from datetime import datetime\n",
    "from meteostat import Point, Hourly\n",
    "\n",
    "from sklearn.preprocessing import StandardScaler\n",
    "from sklearn.model_selection import train_test_split\n",
    "from sklearn.model_selection import GridSearchCV\n",
    "from sklearn.metrics import mean_absolute_error, mean_squared_error, r2_score, mean_squared_error\n",
    "from lightgbm import LGBMRegressor\n",
    "\n",
    "from scipy.stats import yeojohnson\n",
    "from math import exp\n",
    "import pickle\n"
   ]
  },
  {
   "cell_type": "code",
   "execution_count": 2,
   "id": "a84b749c",
   "metadata": {},
   "outputs": [],
   "source": [
    "start = datetime(2014, 11, 1)\n",
    "end = datetime(2019, 10, 13)\n",
    "\n",
    "brooklyn = Point(40.646081321775156, -73.95796142054905)\n",
    "# Getting daily data\n",
    "data = Hourly(brooklyn, start, end)\n",
    "data = data.fetch()"
   ]
  },
  {
   "cell_type": "code",
   "execution_count": 3,
   "id": "a51ce28c",
   "metadata": {},
   "outputs": [],
   "source": [
    "df_weather = data.drop(columns= ['dwpt', 'snow', 'wdir', 'wpgt', 'pres', 'tsun'])\n",
    "\n",
    "df_resampled = df_weather.resample('15T').asfreq().fillna(method='pad')"
   ]
  },
  {
   "cell_type": "code",
   "execution_count": 4,
   "id": "760f1afd",
   "metadata": {},
   "outputs": [
    {
     "data": {
      "text/plain": [
       "temp    0\n",
       "rhum    0\n",
       "prcp    0\n",
       "wspd    0\n",
       "coco    0\n",
       "dtype: int64"
      ]
     },
     "execution_count": 4,
     "metadata": {},
     "output_type": "execute_result"
    }
   ],
   "source": [
    "weather = df_resampled.fillna(0)\n",
    "weather.isnull().sum()"
   ]
  },
  {
   "cell_type": "code",
   "execution_count": 5,
   "id": "d735f8fd",
   "metadata": {},
   "outputs": [],
   "source": [
    "df = pd.read_csv('US Holiday Dates (2004-2021).csv')"
   ]
  },
  {
   "cell_type": "code",
   "execution_count": 6,
   "id": "a98d8923",
   "metadata": {},
   "outputs": [],
   "source": [
    "# dropping duplicates\n",
    "df = df.drop_duplicates(subset=['Date'])"
   ]
  },
  {
   "cell_type": "code",
   "execution_count": 7,
   "id": "cdd9f840",
   "metadata": {},
   "outputs": [],
   "source": [
    "df['Date'] = pd.to_datetime(df['Date'])\n",
    "df['Date'] = df['Date'].dt.strftime('%Y-%m-%d %H:%M')\n",
    "df['Date'] = pd.to_datetime(df['Date'])\n",
    "\n",
    "# creating empty DataFrame to accumulate 15-minute intervals for all unique dates\n",
    "df_intervals = pd.DataFrame()\n",
    "\n",
    "# creating for loop to convert daily timestamps into 15 minute ones to match other databases\n",
    "for date in df['Date'].dt.date.unique():\n",
    "    # Filtering data for the existing dates\n",
    "    df_day = df[df['Date'].dt.date == date]\n",
    "\n",
    "    # Creating 15-minute intervals for the existing dates\n",
    "    intervals = pd.date_range(start=df_day['Date'].min(), end=df_day['Date'].max() + pd.Timedelta(days=1), freq='15T')\n",
    "\n",
    "    # creating temporary DataFrame within each iteration of the loop\n",
    "    df_day_intervals = pd.DataFrame({'Date': intervals, 'holiday': 'yes'})\n",
    "\n",
    "    # Appending the intervals to the final DataFrame\n",
    "    df_intervals = pd.concat([df_intervals, df_day_intervals], ignore_index=True)\n"
   ]
  },
  {
   "cell_type": "code",
   "execution_count": 8,
   "id": "72dc6654",
   "metadata": {},
   "outputs": [],
   "source": [
    "df_intervals.set_index('Date', inplace=True)"
   ]
  },
  {
   "cell_type": "code",
   "execution_count": 9,
   "id": "490b7e36",
   "metadata": {},
   "outputs": [],
   "source": [
    "holidays = df_intervals"
   ]
  },
  {
   "cell_type": "code",
   "execution_count": 10,
   "id": "2d95d95e",
   "metadata": {},
   "outputs": [],
   "source": [
    "filtered_df =pd.read_csv('flatbush_avenue.csv', index_col=0)"
   ]
  },
  {
   "cell_type": "code",
   "execution_count": 11,
   "id": "cd21304b",
   "metadata": {},
   "outputs": [],
   "source": [
    "sb_df = filtered_df[filtered_df['Direction'].isin(['sb'])]\n"
   ]
  },
  {
   "cell_type": "code",
   "execution_count": 12,
   "id": "503400ef",
   "metadata": {},
   "outputs": [],
   "source": [
    "nb_df = filtered_df[filtered_df['Direction'].isin(['nb'])]\n"
   ]
  },
  {
   "cell_type": "code",
   "execution_count": 13,
   "id": "8c7dfb82-7a50-41d0-99c5-3c82718ae941",
   "metadata": {},
   "outputs": [],
   "source": [
    "sb_df.columns = sb_df.columns.str.lower().str.replace(' ', '_')"
   ]
  },
  {
   "cell_type": "code",
   "execution_count": 14,
   "id": "fd593fdd-c71e-4c7e-85de-6d71e5a613ab",
   "metadata": {},
   "outputs": [],
   "source": [
    "sb_df = sb_df.rename(columns={'yr': 'year', 'm': 'month', 'd': 'day', 'hh': 'hour', 'mm': 'minute'})\n",
    "               \n",
    "sb_df['date'] = pd.to_datetime(sb_df[['year', 'month', 'day', 'hour', 'minute']], format='%Y-%m-%d %H:%M')\n",
    "sb_df.set_index('date', inplace=True)"
   ]
  },
  {
   "cell_type": "code",
   "execution_count": 15,
   "id": "a595bc58",
   "metadata": {},
   "outputs": [],
   "source": [
    "refine_df = sb_df[(sb_df['fromst'] == 'brighton_line') & (sb_df['tost'] == 'brighton_line')]\n"
   ]
  },
  {
   "cell_type": "code",
   "execution_count": 16,
   "id": "40c61ef9-a130-4a0c-9e93-5e81b0fddc02",
   "metadata": {},
   "outputs": [],
   "source": [
    "clean_df = refine_df.drop(labels = ['unnamed:_0', 'requestid', 'boro', 'segmentid', 'wktgeom', 'fromst', 'tost', 'street', 'direction'], axis =1)"
   ]
  },
  {
   "cell_type": "code",
   "execution_count": 17,
   "id": "114a1a56-ab40-49f3-92d3-5b576f8c3fb1",
   "metadata": {},
   "outputs": [
    {
     "data": {
      "text/html": [
       "<div>\n",
       "<style scoped>\n",
       "    .dataframe tbody tr th:only-of-type {\n",
       "        vertical-align: middle;\n",
       "    }\n",
       "\n",
       "    .dataframe tbody tr th {\n",
       "        vertical-align: top;\n",
       "    }\n",
       "\n",
       "    .dataframe thead th {\n",
       "        text-align: right;\n",
       "    }\n",
       "</style>\n",
       "<table border=\"1\" class=\"dataframe\">\n",
       "  <thead>\n",
       "    <tr style=\"text-align: right;\">\n",
       "      <th></th>\n",
       "      <th>year</th>\n",
       "      <th>month</th>\n",
       "      <th>day</th>\n",
       "      <th>hour</th>\n",
       "      <th>minute</th>\n",
       "      <th>vol</th>\n",
       "    </tr>\n",
       "    <tr>\n",
       "      <th>date</th>\n",
       "      <th></th>\n",
       "      <th></th>\n",
       "      <th></th>\n",
       "      <th></th>\n",
       "      <th></th>\n",
       "      <th></th>\n",
       "    </tr>\n",
       "  </thead>\n",
       "  <tbody>\n",
       "    <tr>\n",
       "      <th>2015-05-04 08:00:00</th>\n",
       "      <td>2015</td>\n",
       "      <td>5</td>\n",
       "      <td>4</td>\n",
       "      <td>8</td>\n",
       "      <td>0</td>\n",
       "      <td>176</td>\n",
       "    </tr>\n",
       "    <tr>\n",
       "      <th>2015-05-04 08:15:00</th>\n",
       "      <td>2015</td>\n",
       "      <td>5</td>\n",
       "      <td>4</td>\n",
       "      <td>8</td>\n",
       "      <td>15</td>\n",
       "      <td>184</td>\n",
       "    </tr>\n",
       "    <tr>\n",
       "      <th>2015-05-04 08:30:00</th>\n",
       "      <td>2015</td>\n",
       "      <td>5</td>\n",
       "      <td>4</td>\n",
       "      <td>8</td>\n",
       "      <td>30</td>\n",
       "      <td>196</td>\n",
       "    </tr>\n",
       "    <tr>\n",
       "      <th>2015-05-04 08:45:00</th>\n",
       "      <td>2015</td>\n",
       "      <td>5</td>\n",
       "      <td>4</td>\n",
       "      <td>8</td>\n",
       "      <td>45</td>\n",
       "      <td>180</td>\n",
       "    </tr>\n",
       "    <tr>\n",
       "      <th>2015-05-04 09:00:00</th>\n",
       "      <td>2015</td>\n",
       "      <td>5</td>\n",
       "      <td>4</td>\n",
       "      <td>9</td>\n",
       "      <td>0</td>\n",
       "      <td>220</td>\n",
       "    </tr>\n",
       "  </tbody>\n",
       "</table>\n",
       "</div>"
      ],
      "text/plain": [
       "                     year  month  day  hour  minute  vol\n",
       "date                                                    \n",
       "2015-05-04 08:00:00  2015      5    4     8       0  176\n",
       "2015-05-04 08:15:00  2015      5    4     8      15  184\n",
       "2015-05-04 08:30:00  2015      5    4     8      30  196\n",
       "2015-05-04 08:45:00  2015      5    4     8      45  180\n",
       "2015-05-04 09:00:00  2015      5    4     9       0  220"
      ]
     },
     "execution_count": 17,
     "metadata": {},
     "output_type": "execute_result"
    }
   ],
   "source": [
    "clean_df.head().sort_index()"
   ]
  },
  {
   "cell_type": "code",
   "execution_count": 18,
   "id": "c55a3167",
   "metadata": {},
   "outputs": [],
   "source": [
    "duplicated = clean_df[clean_df.index.duplicated(keep=False)]\n",
    "duplicated_rows = pd.DataFrame(duplicated)"
   ]
  },
  {
   "cell_type": "code",
   "execution_count": 19,
   "id": "0f93050b",
   "metadata": {},
   "outputs": [],
   "source": [
    "agg_dict = {'vol': 'sum', 'year': 'first', 'month': 'first', 'day': 'first', 'hour': 'first', 'minute': 'first'}\n",
    "combined_df = clean_df.groupby(clean_df.index).agg(agg_dict)\n",
    "\n",
    "duplicated_clean = combined_df[combined_df.index.duplicated(keep=False)]\n",
    "duplicates = pd.DataFrame(duplicated_clean)\n"
   ]
  },
  {
   "cell_type": "code",
   "execution_count": 20,
   "id": "9e7ff608-2f01-425b-bcab-799e2a50e06e",
   "metadata": {},
   "outputs": [],
   "source": [
    "flatbush = combined_df"
   ]
  },
  {
   "cell_type": "code",
   "execution_count": 21,
   "id": "7b476745",
   "metadata": {},
   "outputs": [],
   "source": [
    "df_temp = flatbush.merge(weather, left_index=True, right_index=True, how='left')\n",
    "df_merged = df_temp.merge(holidays, left_index=True, right_index=True, how='left')"
   ]
  },
  {
   "cell_type": "code",
   "execution_count": 22,
   "id": "4b8ea2c1",
   "metadata": {},
   "outputs": [],
   "source": [
    "df = pd.get_dummies(df_merged, dtype=int)"
   ]
  },
  {
   "cell_type": "code",
   "execution_count": 23,
   "id": "df4ae565-3013-4f44-8897-037e7b70d942",
   "metadata": {},
   "outputs": [],
   "source": [
    "transformed_data, lmbda = yeojohnson(df.vol)"
   ]
  },
  {
   "cell_type": "code",
   "execution_count": 24,
   "id": "101bb2f7-eece-47de-ae29-a585ac90c520",
   "metadata": {},
   "outputs": [],
   "source": [
    "df['vol'] = transformed_data"
   ]
  },
  {
   "cell_type": "code",
   "execution_count": 25,
   "id": "eb762287-f380-4184-8127-aaeb5f319c0b",
   "metadata": {},
   "outputs": [
    {
     "data": {
      "text/html": [
       "<div>\n",
       "<style scoped>\n",
       "    .dataframe tbody tr th:only-of-type {\n",
       "        vertical-align: middle;\n",
       "    }\n",
       "\n",
       "    .dataframe tbody tr th {\n",
       "        vertical-align: top;\n",
       "    }\n",
       "\n",
       "    .dataframe thead th {\n",
       "        text-align: right;\n",
       "    }\n",
       "</style>\n",
       "<table border=\"1\" class=\"dataframe\">\n",
       "  <thead>\n",
       "    <tr style=\"text-align: right;\">\n",
       "      <th></th>\n",
       "      <th>vol</th>\n",
       "      <th>year</th>\n",
       "      <th>month</th>\n",
       "      <th>day</th>\n",
       "      <th>hour</th>\n",
       "      <th>minute</th>\n",
       "      <th>temp</th>\n",
       "      <th>rhum</th>\n",
       "      <th>prcp</th>\n",
       "      <th>wspd</th>\n",
       "      <th>coco</th>\n",
       "      <th>holiday_yes</th>\n",
       "    </tr>\n",
       "    <tr>\n",
       "      <th>date</th>\n",
       "      <th></th>\n",
       "      <th></th>\n",
       "      <th></th>\n",
       "      <th></th>\n",
       "      <th></th>\n",
       "      <th></th>\n",
       "      <th></th>\n",
       "      <th></th>\n",
       "      <th></th>\n",
       "      <th></th>\n",
       "      <th></th>\n",
       "      <th></th>\n",
       "    </tr>\n",
       "  </thead>\n",
       "  <tbody>\n",
       "    <tr>\n",
       "      <th>2015-05-04 08:00:00</th>\n",
       "      <td>33.853695</td>\n",
       "      <td>2015</td>\n",
       "      <td>5</td>\n",
       "      <td>4</td>\n",
       "      <td>8</td>\n",
       "      <td>0</td>\n",
       "      <td>14.4</td>\n",
       "      <td>57.0</td>\n",
       "      <td>0.0</td>\n",
       "      <td>5.4</td>\n",
       "      <td>0.0</td>\n",
       "      <td>0</td>\n",
       "    </tr>\n",
       "    <tr>\n",
       "      <th>2015-05-04 08:15:00</th>\n",
       "      <td>34.788452</td>\n",
       "      <td>2015</td>\n",
       "      <td>5</td>\n",
       "      <td>4</td>\n",
       "      <td>8</td>\n",
       "      <td>15</td>\n",
       "      <td>14.4</td>\n",
       "      <td>57.0</td>\n",
       "      <td>0.0</td>\n",
       "      <td>5.4</td>\n",
       "      <td>0.0</td>\n",
       "      <td>0</td>\n",
       "    </tr>\n",
       "    <tr>\n",
       "      <th>2015-05-04 08:30:00</th>\n",
       "      <td>36.159856</td>\n",
       "      <td>2015</td>\n",
       "      <td>5</td>\n",
       "      <td>4</td>\n",
       "      <td>8</td>\n",
       "      <td>30</td>\n",
       "      <td>14.4</td>\n",
       "      <td>57.0</td>\n",
       "      <td>0.0</td>\n",
       "      <td>5.4</td>\n",
       "      <td>0.0</td>\n",
       "      <td>0</td>\n",
       "    </tr>\n",
       "    <tr>\n",
       "      <th>2015-05-04 08:45:00</th>\n",
       "      <td>34.323207</td>\n",
       "      <td>2015</td>\n",
       "      <td>5</td>\n",
       "      <td>4</td>\n",
       "      <td>8</td>\n",
       "      <td>45</td>\n",
       "      <td>14.4</td>\n",
       "      <td>57.0</td>\n",
       "      <td>0.0</td>\n",
       "      <td>5.4</td>\n",
       "      <td>0.0</td>\n",
       "      <td>0</td>\n",
       "    </tr>\n",
       "    <tr>\n",
       "      <th>2015-05-04 09:00:00</th>\n",
       "      <td>38.803114</td>\n",
       "      <td>2015</td>\n",
       "      <td>5</td>\n",
       "      <td>4</td>\n",
       "      <td>9</td>\n",
       "      <td>0</td>\n",
       "      <td>13.9</td>\n",
       "      <td>59.0</td>\n",
       "      <td>0.0</td>\n",
       "      <td>0.0</td>\n",
       "      <td>0.0</td>\n",
       "      <td>0</td>\n",
       "    </tr>\n",
       "    <tr>\n",
       "      <th>...</th>\n",
       "      <td>...</td>\n",
       "      <td>...</td>\n",
       "      <td>...</td>\n",
       "      <td>...</td>\n",
       "      <td>...</td>\n",
       "      <td>...</td>\n",
       "      <td>...</td>\n",
       "      <td>...</td>\n",
       "      <td>...</td>\n",
       "      <td>...</td>\n",
       "      <td>...</td>\n",
       "      <td>...</td>\n",
       "    </tr>\n",
       "    <tr>\n",
       "      <th>2018-03-15 22:45:00</th>\n",
       "      <td>44.545653</td>\n",
       "      <td>2018</td>\n",
       "      <td>3</td>\n",
       "      <td>15</td>\n",
       "      <td>22</td>\n",
       "      <td>45</td>\n",
       "      <td>6.1</td>\n",
       "      <td>55.0</td>\n",
       "      <td>0.0</td>\n",
       "      <td>31.7</td>\n",
       "      <td>3.0</td>\n",
       "      <td>0</td>\n",
       "    </tr>\n",
       "    <tr>\n",
       "      <th>2018-03-15 23:00:00</th>\n",
       "      <td>42.757065</td>\n",
       "      <td>2018</td>\n",
       "      <td>3</td>\n",
       "      <td>15</td>\n",
       "      <td>23</td>\n",
       "      <td>0</td>\n",
       "      <td>5.6</td>\n",
       "      <td>55.0</td>\n",
       "      <td>0.0</td>\n",
       "      <td>18.4</td>\n",
       "      <td>7.0</td>\n",
       "      <td>0</td>\n",
       "    </tr>\n",
       "    <tr>\n",
       "      <th>2018-03-15 23:15:00</th>\n",
       "      <td>46.762648</td>\n",
       "      <td>2018</td>\n",
       "      <td>3</td>\n",
       "      <td>15</td>\n",
       "      <td>23</td>\n",
       "      <td>15</td>\n",
       "      <td>5.6</td>\n",
       "      <td>55.0</td>\n",
       "      <td>0.0</td>\n",
       "      <td>18.4</td>\n",
       "      <td>7.0</td>\n",
       "      <td>0</td>\n",
       "    </tr>\n",
       "    <tr>\n",
       "      <th>2018-03-15 23:30:00</th>\n",
       "      <td>40.708369</td>\n",
       "      <td>2018</td>\n",
       "      <td>3</td>\n",
       "      <td>15</td>\n",
       "      <td>23</td>\n",
       "      <td>30</td>\n",
       "      <td>5.6</td>\n",
       "      <td>55.0</td>\n",
       "      <td>0.0</td>\n",
       "      <td>18.4</td>\n",
       "      <td>7.0</td>\n",
       "      <td>0</td>\n",
       "    </tr>\n",
       "    <tr>\n",
       "      <th>2018-03-15 23:45:00</th>\n",
       "      <td>43.756841</td>\n",
       "      <td>2018</td>\n",
       "      <td>3</td>\n",
       "      <td>15</td>\n",
       "      <td>23</td>\n",
       "      <td>45</td>\n",
       "      <td>5.6</td>\n",
       "      <td>55.0</td>\n",
       "      <td>0.0</td>\n",
       "      <td>18.4</td>\n",
       "      <td>7.0</td>\n",
       "      <td>0</td>\n",
       "    </tr>\n",
       "  </tbody>\n",
       "</table>\n",
       "<p>13508 rows × 12 columns</p>\n",
       "</div>"
      ],
      "text/plain": [
       "                           vol  year  month  day  hour  minute  temp  rhum  \\\n",
       "date                                                                         \n",
       "2015-05-04 08:00:00  33.853695  2015      5    4     8       0  14.4  57.0   \n",
       "2015-05-04 08:15:00  34.788452  2015      5    4     8      15  14.4  57.0   \n",
       "2015-05-04 08:30:00  36.159856  2015      5    4     8      30  14.4  57.0   \n",
       "2015-05-04 08:45:00  34.323207  2015      5    4     8      45  14.4  57.0   \n",
       "2015-05-04 09:00:00  38.803114  2015      5    4     9       0  13.9  59.0   \n",
       "...                        ...   ...    ...  ...   ...     ...   ...   ...   \n",
       "2018-03-15 22:45:00  44.545653  2018      3   15    22      45   6.1  55.0   \n",
       "2018-03-15 23:00:00  42.757065  2018      3   15    23       0   5.6  55.0   \n",
       "2018-03-15 23:15:00  46.762648  2018      3   15    23      15   5.6  55.0   \n",
       "2018-03-15 23:30:00  40.708369  2018      3   15    23      30   5.6  55.0   \n",
       "2018-03-15 23:45:00  43.756841  2018      3   15    23      45   5.6  55.0   \n",
       "\n",
       "                     prcp  wspd  coco  holiday_yes  \n",
       "date                                                \n",
       "2015-05-04 08:00:00   0.0   5.4   0.0            0  \n",
       "2015-05-04 08:15:00   0.0   5.4   0.0            0  \n",
       "2015-05-04 08:30:00   0.0   5.4   0.0            0  \n",
       "2015-05-04 08:45:00   0.0   5.4   0.0            0  \n",
       "2015-05-04 09:00:00   0.0   0.0   0.0            0  \n",
       "...                   ...   ...   ...          ...  \n",
       "2018-03-15 22:45:00   0.0  31.7   3.0            0  \n",
       "2018-03-15 23:00:00   0.0  18.4   7.0            0  \n",
       "2018-03-15 23:15:00   0.0  18.4   7.0            0  \n",
       "2018-03-15 23:30:00   0.0  18.4   7.0            0  \n",
       "2018-03-15 23:45:00   0.0  18.4   7.0            0  \n",
       "\n",
       "[13508 rows x 12 columns]"
      ]
     },
     "execution_count": 25,
     "metadata": {},
     "output_type": "execute_result"
    }
   ],
   "source": [
    "df.sort_index()\n"
   ]
  },
  {
   "cell_type": "code",
   "execution_count": 26,
   "id": "9124e79e-97c0-48f3-b923-7969b5e75e3e",
   "metadata": {},
   "outputs": [],
   "source": [
    "df['month'] = pd.to_numeric(df['month'])\n",
    "df['hour'] = pd.to_numeric(df['hour'])"
   ]
  },
  {
   "cell_type": "code",
   "execution_count": 27,
   "id": "b09c1a4c-812d-4595-bf0b-c55612dc5e63",
   "metadata": {},
   "outputs": [],
   "source": [
    "def generate_cyclical_features(df, col_name, period, start_num=0):\n",
    "    kwargs = {\n",
    "        f'sin_{col_name}' : lambda x: np.sin(2*np.pi*(df[col_name]-start_num)/period),\n",
    "        f'cos_{col_name}' : lambda x: np.cos(2*np.pi*(df[col_name]-start_num)/period)    \n",
    "             }\n",
    "    return df.assign(**kwargs).drop(columns=[col_name])\n",
    "\n",
    "df_feat_hour = generate_cyclical_features(df, 'hour', 24, 0)\n",
    "df_final = generate_cyclical_features(df_feat_hour, 'month', 12, 1)"
   ]
  },
  {
   "cell_type": "code",
   "execution_count": 28,
   "id": "bdb6b89a-a0ba-49cb-b8e9-a76059bf54c0",
   "metadata": {},
   "outputs": [
    {
     "data": {
      "text/html": [
       "<div>\n",
       "<style scoped>\n",
       "    .dataframe tbody tr th:only-of-type {\n",
       "        vertical-align: middle;\n",
       "    }\n",
       "\n",
       "    .dataframe tbody tr th {\n",
       "        vertical-align: top;\n",
       "    }\n",
       "\n",
       "    .dataframe thead th {\n",
       "        text-align: right;\n",
       "    }\n",
       "</style>\n",
       "<table border=\"1\" class=\"dataframe\">\n",
       "  <thead>\n",
       "    <tr style=\"text-align: right;\">\n",
       "      <th></th>\n",
       "      <th>vol</th>\n",
       "      <th>temp</th>\n",
       "      <th>rhum</th>\n",
       "      <th>prcp</th>\n",
       "      <th>wspd</th>\n",
       "      <th>coco</th>\n",
       "      <th>holiday_yes</th>\n",
       "      <th>sin_hour</th>\n",
       "      <th>cos_hour</th>\n",
       "      <th>sin_month</th>\n",
       "      <th>cos_month</th>\n",
       "    </tr>\n",
       "    <tr>\n",
       "      <th>date</th>\n",
       "      <th></th>\n",
       "      <th></th>\n",
       "      <th></th>\n",
       "      <th></th>\n",
       "      <th></th>\n",
       "      <th></th>\n",
       "      <th></th>\n",
       "      <th></th>\n",
       "      <th></th>\n",
       "      <th></th>\n",
       "      <th></th>\n",
       "    </tr>\n",
       "  </thead>\n",
       "  <tbody>\n",
       "    <tr>\n",
       "      <th>2015-05-04 08:00:00</th>\n",
       "      <td>33.853695</td>\n",
       "      <td>14.4</td>\n",
       "      <td>57.0</td>\n",
       "      <td>0.0</td>\n",
       "      <td>5.4</td>\n",
       "      <td>0.0</td>\n",
       "      <td>0</td>\n",
       "      <td>0.866025</td>\n",
       "      <td>-0.500000</td>\n",
       "      <td>0.866025</td>\n",
       "      <td>-0.5</td>\n",
       "    </tr>\n",
       "    <tr>\n",
       "      <th>2015-05-04 08:15:00</th>\n",
       "      <td>34.788452</td>\n",
       "      <td>14.4</td>\n",
       "      <td>57.0</td>\n",
       "      <td>0.0</td>\n",
       "      <td>5.4</td>\n",
       "      <td>0.0</td>\n",
       "      <td>0</td>\n",
       "      <td>0.866025</td>\n",
       "      <td>-0.500000</td>\n",
       "      <td>0.866025</td>\n",
       "      <td>-0.5</td>\n",
       "    </tr>\n",
       "    <tr>\n",
       "      <th>2015-05-04 08:30:00</th>\n",
       "      <td>36.159856</td>\n",
       "      <td>14.4</td>\n",
       "      <td>57.0</td>\n",
       "      <td>0.0</td>\n",
       "      <td>5.4</td>\n",
       "      <td>0.0</td>\n",
       "      <td>0</td>\n",
       "      <td>0.866025</td>\n",
       "      <td>-0.500000</td>\n",
       "      <td>0.866025</td>\n",
       "      <td>-0.5</td>\n",
       "    </tr>\n",
       "    <tr>\n",
       "      <th>2015-05-04 08:45:00</th>\n",
       "      <td>34.323207</td>\n",
       "      <td>14.4</td>\n",
       "      <td>57.0</td>\n",
       "      <td>0.0</td>\n",
       "      <td>5.4</td>\n",
       "      <td>0.0</td>\n",
       "      <td>0</td>\n",
       "      <td>0.866025</td>\n",
       "      <td>-0.500000</td>\n",
       "      <td>0.866025</td>\n",
       "      <td>-0.5</td>\n",
       "    </tr>\n",
       "    <tr>\n",
       "      <th>2015-05-04 09:00:00</th>\n",
       "      <td>38.803114</td>\n",
       "      <td>13.9</td>\n",
       "      <td>59.0</td>\n",
       "      <td>0.0</td>\n",
       "      <td>0.0</td>\n",
       "      <td>0.0</td>\n",
       "      <td>0</td>\n",
       "      <td>0.707107</td>\n",
       "      <td>-0.707107</td>\n",
       "      <td>0.866025</td>\n",
       "      <td>-0.5</td>\n",
       "    </tr>\n",
       "  </tbody>\n",
       "</table>\n",
       "</div>"
      ],
      "text/plain": [
       "                           vol  temp  rhum  prcp  wspd  coco  holiday_yes  \\\n",
       "date                                                                        \n",
       "2015-05-04 08:00:00  33.853695  14.4  57.0   0.0   5.4   0.0            0   \n",
       "2015-05-04 08:15:00  34.788452  14.4  57.0   0.0   5.4   0.0            0   \n",
       "2015-05-04 08:30:00  36.159856  14.4  57.0   0.0   5.4   0.0            0   \n",
       "2015-05-04 08:45:00  34.323207  14.4  57.0   0.0   5.4   0.0            0   \n",
       "2015-05-04 09:00:00  38.803114  13.9  59.0   0.0   0.0   0.0            0   \n",
       "\n",
       "                     sin_hour  cos_hour  sin_month  cos_month  \n",
       "date                                                           \n",
       "2015-05-04 08:00:00  0.866025 -0.500000   0.866025       -0.5  \n",
       "2015-05-04 08:15:00  0.866025 -0.500000   0.866025       -0.5  \n",
       "2015-05-04 08:30:00  0.866025 -0.500000   0.866025       -0.5  \n",
       "2015-05-04 08:45:00  0.866025 -0.500000   0.866025       -0.5  \n",
       "2015-05-04 09:00:00  0.707107 -0.707107   0.866025       -0.5  "
      ]
     },
     "execution_count": 28,
     "metadata": {},
     "output_type": "execute_result"
    }
   ],
   "source": [
    "df_final_cleaned = df_final.drop(columns=['year', 'day', 'minute'], axis =1)\n",
    "df_final_cleaned.sort_index().head()"
   ]
  },
  {
   "cell_type": "code",
   "execution_count": 29,
   "id": "4d665393",
   "metadata": {},
   "outputs": [],
   "source": [
    "df_final_cleaned = df_final.sort_index()\n"
   ]
  },
  {
   "cell_type": "code",
   "execution_count": 30,
   "id": "4cb89103-f679-44e2-bff9-6b1106d0a9ef",
   "metadata": {
    "scrolled": true
   },
   "outputs": [],
   "source": [
    "y = df_final_cleaned[['vol']]\n",
    "X = df_final_cleaned.drop(columns=['vol'])\n",
    "\n",
    "\n",
    "X_train, X_temp, y_train, y_temp = train_test_split(X, y, test_size=0.4, shuffle=True, random_state=1)\n",
    "X_val, X_test, y_val, y_test = train_test_split(X_temp, y_temp, test_size=0.5, shuffle=True, random_state=1)\n"
   ]
  },
  {
   "cell_type": "code",
   "execution_count": 31,
   "id": "753f4386-919f-441c-b907-0885bd69e514",
   "metadata": {},
   "outputs": [],
   "source": [
    "# Creating a StandardScaler instance\n",
    "scaler = StandardScaler()\n",
    "\n",
    "# Fitting the scaler on the training data and transforming it\n",
    "X_train_scaled = scaler.fit_transform(X_train)\n",
    "\n",
    "# Transforming the validation and test data using the same scaler\n",
    "X_val_scaled = scaler.transform(X_val)\n",
    "X_test_scaled = scaler.transform(X_test)\n",
    "\n",
    "y_train_scaled = scaler.fit_transform(y_train)\n",
    "y_val_scaled = scaler.transform(y_val)\n",
    "y_test_scaled = scaler.transform(y_test)\n"
   ]
  },
  {
   "cell_type": "code",
   "execution_count": 34,
   "id": "c8c75a21",
   "metadata": {},
   "outputs": [
    {
     "name": "stdout",
     "output_type": "stream",
     "text": [
      "Best Hyperparameters: {'colsample_bytree': 0.8, 'force_col_wise': True, 'learning_rate': 0.1, 'n_estimators': 200, 'num_leaves': 100, 'verbosity': 0}\n"
     ]
    }
   ],
   "source": [
    "param_grid = {\n",
    "    'num_leaves': [30, 50, 100], #  maximum number of leaves in one tree\n",
    "    'learning_rate': [0.01, 0.1, 0.2], # step size at each iteration while moving toward a minimum of a loss function\n",
    "    'n_estimators': [50, 100, 200], # number of trees in the forest\n",
    "    'colsample_bytree': [0.8, 0.9, 1.0], # regularization technique to prevent overfitting\n",
    "    'force_col_wise': [True], # provides a speedup for training large datasets\n",
    "    'verbosity': [0]  # controls the amount of information printed during training\n",
    "}\n",
    "\n",
    "lgb_model = LGBMRegressor(objective='regression', metric='l2', boosting_type='gbdt')\n",
    "\n",
    "# Using GridSearchCV to find the best hyperparameters\n",
    "grid_search = GridSearchCV(lgb_model, param_grid, cv=5, scoring='neg_mean_squared_error', verbose=0)\n",
    "grid_search.fit(X_train_scaled, y_train_scaled)\n",
    "\n",
    "print(\"Best Hyperparameters:\", grid_search.best_params_)\n",
    "\n",
    "# Training the regression model with the best hyperparameters\n",
    "best_params = grid_search.best_params_\n",
    "bst = LGBMRegressor(metric='l2', boosting_type='gbdt', **best_params ) # **best_params unpacks the dictionary\n",
    "bst.fit(X_train_scaled, y_train_scaled, eval_set=[(X_val_scaled, y_val_scaled)])\n",
    "\n",
    "# Making predictions on the test set\n",
    "y_pred = bst.predict(X_test_scaled)\n"
   ]
  },
  {
   "cell_type": "code",
   "execution_count": 46,
   "id": "f0d58929",
   "metadata": {},
   "outputs": [
    {
     "name": "stdout",
     "output_type": "stream",
     "text": [
      "                           vol  prediction\n",
      "date                                      \n",
      "2015-05-04 09:00:00  38.803114   32.765281\n",
      "2015-05-04 09:45:00  31.807346   31.685193\n",
      "2015-05-04 11:00:00  33.260598   32.362831\n",
      "2015-05-04 12:15:00  31.560820   32.627902\n",
      "2015-05-04 13:15:00  36.497266   34.783751\n"
     ]
    }
   ],
   "source": [
    "def inverse_transform(scaler, df, columns):\n",
    "    for col in columns:\n",
    "        df[col] = scaler.inverse_transform(df[col])\n",
    "    return df\n",
    "\n",
    "def format_predictions(predictions, values, df_test, scaler):\n",
    "    vals = np.concatenate(values, axis=0).ravel()\n",
    "    preds = np.concatenate([predictions.reshape(-1, 1)], axis=0).ravel() # reshaping 'predictions' into 2D array to match 'values'\n",
    "    df_result = pd.DataFrame(data={\"vol\": vals, \"prediction\": preds}, index=df_test.head(len(vals)).index)\n",
    "    df_result = df_result.sort_index()\n",
    "    df_result = inverse_transform(scaler, df_result, [[\"vol\", \"prediction\"]])\n",
    "    return df_result\n",
    "\n",
    "df_lgbm = format_predictions(y_pred, y_test_scaled, X_test, scaler)\n",
    "print(df_lgbm.head())"
   ]
  },
  {
   "cell_type": "code",
   "execution_count": 36,
   "id": "6baa444e",
   "metadata": {},
   "outputs": [
    {
     "data": {
      "text/html": [
       "<div>\n",
       "<style scoped>\n",
       "    .dataframe tbody tr th:only-of-type {\n",
       "        vertical-align: middle;\n",
       "    }\n",
       "\n",
       "    .dataframe tbody tr th {\n",
       "        vertical-align: top;\n",
       "    }\n",
       "\n",
       "    .dataframe thead th {\n",
       "        text-align: right;\n",
       "    }\n",
       "</style>\n",
       "<table border=\"1\" class=\"dataframe\">\n",
       "  <thead>\n",
       "    <tr style=\"text-align: right;\">\n",
       "      <th></th>\n",
       "      <th>vol</th>\n",
       "      <th>prediction</th>\n",
       "    </tr>\n",
       "    <tr>\n",
       "      <th>date</th>\n",
       "      <th></th>\n",
       "      <th></th>\n",
       "    </tr>\n",
       "  </thead>\n",
       "  <tbody>\n",
       "    <tr>\n",
       "      <th>2015-05-04 09:00:00</th>\n",
       "      <td>220.0</td>\n",
       "      <td>166.869765</td>\n",
       "    </tr>\n",
       "    <tr>\n",
       "      <th>2015-05-04 09:45:00</th>\n",
       "      <td>159.0</td>\n",
       "      <td>158.007706</td>\n",
       "    </tr>\n",
       "    <tr>\n",
       "      <th>2015-05-04 11:00:00</th>\n",
       "      <td>171.0</td>\n",
       "      <td>163.544494</td>\n",
       "    </tr>\n",
       "    <tr>\n",
       "      <th>2015-05-04 12:15:00</th>\n",
       "      <td>157.0</td>\n",
       "      <td>165.731575</td>\n",
       "    </tr>\n",
       "    <tr>\n",
       "      <th>2015-05-04 13:15:00</th>\n",
       "      <td>199.0</td>\n",
       "      <td>183.959400</td>\n",
       "    </tr>\n",
       "  </tbody>\n",
       "</table>\n",
       "</div>"
      ],
      "text/plain": [
       "                       vol  prediction\n",
       "date                                  \n",
       "2015-05-04 09:00:00  220.0  166.869765\n",
       "2015-05-04 09:45:00  159.0  158.007706\n",
       "2015-05-04 11:00:00  171.0  163.544494\n",
       "2015-05-04 12:15:00  157.0  165.731575\n",
       "2015-05-04 13:15:00  199.0  183.959400"
      ]
     },
     "execution_count": 36,
     "metadata": {},
     "output_type": "execute_result"
    }
   ],
   "source": [
    "def invert_yeojhonson(value, lmbda):\n",
    "  if value>= 0 and lmbda == 0:\n",
    "    return exp(value) - 1\n",
    "  elif value >= 0 and lmbda != 0:\n",
    "    return (value * lmbda + 1) ** (1 / lmbda) - 1\n",
    "  elif value < 0 and lmbda != 2:\n",
    "    return 1 - (-(2 - lmbda) * value + 1) ** (1 / (2 - lmbda))\n",
    "  elif value < 0 and lmbda == 2:\n",
    "    return 1 - exp(-value)\n",
    "\n",
    "df_result_lgbm = pd.DataFrame()\n",
    "df_result_lgbm['vol'] = df_lgbm['vol'].apply(lambda x: invert_yeojhonson(x, lmbda))\n",
    "df_result_lgbm['prediction'] = df_lgbm['prediction'].apply(lambda x: invert_yeojhonson(x, lmbda))\n",
    "\n",
    "df_result_lgbm.head()"
   ]
  },
  {
   "cell_type": "markdown",
   "id": "b131c0fa",
   "metadata": {},
   "source": [
    "### Evaluating and visualizing results"
   ]
  },
  {
   "cell_type": "code",
   "execution_count": 37,
   "id": "0a3c32ec",
   "metadata": {},
   "outputs": [],
   "source": [
    "def calculate_metrics(df):\n",
    "    return {'mse' : mean_squared_error(df.vol, df.prediction),\n",
    "            'mae' : mean_absolute_error(df.vol, df.prediction),\n",
    "            'rmse' : mean_squared_error(df.vol, df.prediction) ** 0.5,\n",
    "            'r2' : r2_score(df.vol, df.prediction)}\n"
   ]
  },
  {
   "cell_type": "code",
   "execution_count": 38,
   "id": "1b5c20d0",
   "metadata": {},
   "outputs": [
    {
     "data": {
      "text/plain": [
       "{'mse': 503.1628678698149,\n",
       " 'mae': 16.388654565388407,\n",
       " 'rmse': 22.43129215782753,\n",
       " 'r2': 0.9359075002192138}"
      ]
     },
     "execution_count": 38,
     "metadata": {},
     "output_type": "execute_result"
    }
   ],
   "source": [
    "calculate_metrics(df_result_lgbm)"
   ]
  },
  {
   "cell_type": "code",
   "execution_count": 55,
   "id": "245c4f7b",
   "metadata": {},
   "outputs": [],
   "source": [
    "\n",
    "with open('lightgbm_model.bin', 'wb') as f_out:\n",
    "    pickle.dump((bst), f_out)"
   ]
  },
  {
   "cell_type": "code",
   "execution_count": 57,
   "id": "84d9e989",
   "metadata": {},
   "outputs": [],
   "source": [
    "with open('scaler_model.bin', 'wb') as f_out:\n",
    "    pickle.dump((scaler, lmbda), f_out)"
   ]
  },
  {
   "cell_type": "markdown",
   "id": "1cf8385e",
   "metadata": {},
   "source": []
  }
 ],
 "metadata": {
  "kernelspec": {
   "display_name": "Python 3 (ipykernel)",
   "language": "python",
   "name": "python3"
  },
  "language_info": {
   "codemirror_mode": {
    "name": "ipython",
    "version": 3
   },
   "file_extension": ".py",
   "mimetype": "text/x-python",
   "name": "python",
   "nbconvert_exporter": "python",
   "pygments_lexer": "ipython3",
   "version": "3.11.5"
  }
 },
 "nbformat": 4,
 "nbformat_minor": 5
}
